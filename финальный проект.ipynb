{
 "cells": [
  {
   "cell_type": "markdown",
   "metadata": {},
   "source": [
    "**ФИО: Бочарова Дарья Алексеевна, Гарькина Анастасия Константиновна**\n",
    "\n"
   ]
  },
  {
   "cell_type": "markdown",
   "metadata": {},
   "source": [
    "## Project\n",
    "\n",
    "\n",
    "__Тема:__ Экология в разных странах мира за 2022 год\n",
    "\n",
    "__Цель:__ Посмотреть на зависимость между экологической обстановкой и смертностью в странах мира за 2022 год\n",
    "\n",
    "__Гипотеза:__ Страны с высоким индексом активно инвестируют в экологию своей территории. Стоит повышать государственные затраты на обеспечение устанения проблем с экологией, что позволит снизить уровень смертности граждан"
   ]
  },
  {
   "cell_type": "markdown",
   "metadata": {},
   "source": [
    "## Сбор данных\n",
    "\n",
    "На данном шаге мы будем создавать датасет; это будет происходить в несколько этапов, поскольку данные достаются с разных сайтов. Необходимы индекс экологической эффективности и уровень смертности в странах мира"
   ]
  },
  {
   "cell_type": "code",
   "execution_count": 70,
   "metadata": {},
   "outputs": [],
   "source": [
    "import numpy as np\n",
    "import pandas as pd\n",
    "from bs4 import BeautifulSoup\n",
    "import scipy.stats as sts\n",
    "import matplotlib.pyplot as plt\n",
    "import seaborn as sns\n",
    "import requests\n",
    "import urllib.request"
   ]
  },
  {
   "cell_type": "markdown",
   "metadata": {},
   "source": [
    "\n",
    "\n",
    "Сначала берем данные об индексе экологической эффективности\n",
    "\n",
    "Источник: https://epi.yale.edu/epi-results/2022/component/epi"
   ]
  },
  {
   "cell_type": "code",
   "execution_count": 71,
   "metadata": {
    "scrolled": true
   },
   "outputs": [
    {
     "name": "stdout",
     "output_type": "stream",
     "text": [
      "<Response [200]>\n",
      "(180, 3)\n"
     ]
    },
    {
     "data": {
      "text/html": [
       "<div>\n",
       "<style scoped>\n",
       "    .dataframe tbody tr th:only-of-type {\n",
       "        vertical-align: middle;\n",
       "    }\n",
       "\n",
       "    .dataframe tbody tr th {\n",
       "        vertical-align: top;\n",
       "    }\n",
       "\n",
       "    .dataframe thead th {\n",
       "        text-align: right;\n",
       "    }\n",
       "</style>\n",
       "<table border=\"1\" class=\"dataframe\">\n",
       "  <thead>\n",
       "    <tr style=\"text-align: right;\">\n",
       "      <th></th>\n",
       "      <th>Country</th>\n",
       "      <th>Index</th>\n",
       "      <th>Ten_year_change</th>\n",
       "    </tr>\n",
       "  </thead>\n",
       "  <tbody>\n",
       "    <tr>\n",
       "      <th>0</th>\n",
       "      <td>Afghanistan</td>\n",
       "      <td>43.60</td>\n",
       "      <td>23.90</td>\n",
       "    </tr>\n",
       "    <tr>\n",
       "      <th>1</th>\n",
       "      <td>Albania</td>\n",
       "      <td>47.10</td>\n",
       "      <td>9.90</td>\n",
       "    </tr>\n",
       "    <tr>\n",
       "      <th>2</th>\n",
       "      <td>Algeria</td>\n",
       "      <td>29.60</td>\n",
       "      <td>-4.00</td>\n",
       "    </tr>\n",
       "    <tr>\n",
       "      <th>3</th>\n",
       "      <td>Angola</td>\n",
       "      <td>30.50</td>\n",
       "      <td>0.20</td>\n",
       "    </tr>\n",
       "    <tr>\n",
       "      <th>4</th>\n",
       "      <td>Antigua and Barbuda</td>\n",
       "      <td>52.40</td>\n",
       "      <td>9.70</td>\n",
       "    </tr>\n",
       "  </tbody>\n",
       "</table>\n",
       "</div>"
      ],
      "text/plain": [
       "               Country  Index Ten_year_change\n",
       "0          Afghanistan  43.60           23.90\n",
       "1              Albania  47.10            9.90\n",
       "2              Algeria  29.60           -4.00\n",
       "3               Angola  30.50            0.20\n",
       "4  Antigua and Barbuda  52.40            9.70"
      ]
     },
     "execution_count": 71,
     "metadata": {},
     "output_type": "execute_result"
    }
   ],
   "source": [
    "url = \"https://epi.yale.edu/epi-results/2022/component/epi\" #первый источник с индексами\n",
    "response = requests.get(url)\n",
    "print(response) #результат 200, можно работать \n",
    "\n",
    "bs = BeautifulSoup(response.text, \"lxml\") #получаем исходный код\n",
    "data = []\n",
    "\n",
    "table1 = bs.find('table', class_=\"epi-tlarecord-countryrows\") #достаем из исходного кода нужные данные\n",
    "rows = table1.find_all('tr')\n",
    "\n",
    "for row in rows[1:]:  # пропускаем первую строку, чтобы убрать заголовки столбцов\n",
    "    cols = row.find_all('td')\n",
    "    cols = [col.text.strip() for col in cols]\n",
    "    data.append(cols)\n",
    "\n",
    "data = pd.DataFrame(data, columns=['Country', 'Rank', 'Index', 'Ten_year_change'])\n",
    "\n",
    "\n",
    "data.drop('Rank', axis=1, inplace=True) #удаляем столбец с номерами стран \n",
    "\n",
    "data_sorted = data.sort_values(by='Country') #отсортируем данные так, чтобы страны шли в алфавитном порядке, это нужно для облегчения процесса  дальнейшего сведения таблиц\n",
    "\n",
    "data_sorted = data_sorted.sort_values(by='Country', ignore_index=True) #отсортируем данные по столбцу 'Country' с игнорированием нумерации\n",
    "print(data_sorted.shape)\n",
    "data_sorted.head()\n"
   ]
  },
  {
   "cell_type": "markdown",
   "metadata": {},
   "source": [
    "__Описание столбцов:__\n",
    "\n",
    "* `Country` -  название страны\n",
    "* `Index` - уровень экологии\n",
    "* `ten_year_change` - изменения за последние 10 лет\n"
   ]
  },
  {
   "cell_type": "markdown",
   "metadata": {},
   "source": [
    "\n",
    "\n",
    "Теперь достаем данные о ежегодной смертности людей в разных странах мира\n",
    "\n",
    "Источник: https://database.earth/population/deaths/2022"
   ]
  },
  {
   "cell_type": "code",
   "execution_count": 72,
   "metadata": {},
   "outputs": [
    {
     "name": "stdout",
     "output_type": "stream",
     "text": [
      "<Response [200]>\n"
     ]
    },
    {
     "data": {
      "text/html": [
       "<div>\n",
       "<style scoped>\n",
       "    .dataframe tbody tr th:only-of-type {\n",
       "        vertical-align: middle;\n",
       "    }\n",
       "\n",
       "    .dataframe tbody tr th {\n",
       "        vertical-align: top;\n",
       "    }\n",
       "\n",
       "    .dataframe thead th {\n",
       "        text-align: right;\n",
       "    }\n",
       "</style>\n",
       "<table border=\"1\" class=\"dataframe\">\n",
       "  <thead>\n",
       "    <tr style=\"text-align: right;\">\n",
       "      <th></th>\n",
       "      <th>Country</th>\n",
       "      <th>Annual_Deaths</th>\n",
       "      <th>Male_Deaths</th>\n",
       "      <th>Female_Deaths</th>\n",
       "    </tr>\n",
       "  </thead>\n",
       "  <tbody>\n",
       "    <tr>\n",
       "      <th>0</th>\n",
       "      <td>Andorra</td>\n",
       "      <td>502</td>\n",
       "      <td>279</td>\n",
       "      <td>224</td>\n",
       "    </tr>\n",
       "    <tr>\n",
       "      <th>1</th>\n",
       "      <td>United Arab Emirates</td>\n",
       "      <td>17,609</td>\n",
       "      <td>11,993</td>\n",
       "      <td>5,616</td>\n",
       "    </tr>\n",
       "    <tr>\n",
       "      <th>2</th>\n",
       "      <td>Afghanistan</td>\n",
       "      <td>284,297</td>\n",
       "      <td>163,410</td>\n",
       "      <td>120,887</td>\n",
       "    </tr>\n",
       "    <tr>\n",
       "      <th>3</th>\n",
       "      <td>Antigua and Barbuda</td>\n",
       "      <td>571</td>\n",
       "      <td>293</td>\n",
       "      <td>278</td>\n",
       "    </tr>\n",
       "    <tr>\n",
       "      <th>4</th>\n",
       "      <td>Anguilla</td>\n",
       "      <td>103</td>\n",
       "      <td>64</td>\n",
       "      <td>38</td>\n",
       "    </tr>\n",
       "  </tbody>\n",
       "</table>\n",
       "</div>"
      ],
      "text/plain": [
       "                Country Annual_Deaths Male_Deaths Female_Deaths\n",
       "0               Andorra           502         279           224\n",
       "1  United Arab Emirates        17,609      11,993         5,616\n",
       "2           Afghanistan       284,297     163,410       120,887\n",
       "3   Antigua and Barbuda           571         293           278\n",
       "4              Anguilla           103          64            38"
      ]
     },
     "execution_count": 72,
     "metadata": {},
     "output_type": "execute_result"
    }
   ],
   "source": [
    "url = \"https://database.earth/population/deaths/2022\" \n",
    "response = requests.get(url)\n",
    "print(response) #результат 200, можно работать \n",
    "\n",
    "bs = BeautifulSoup(response.text, \"lxml\") #получаем исходный код\n",
    "data = []\n",
    "\n",
    "table1 = bs.find('table', class_=\"table-fixed w-full\") #достаем из исходного кода нужные данные\n",
    "rows = table1.find_all('tr')\n",
    "\n",
    "for row in rows[1:]:  # пропускаем первую строку, чтобы убрать заголовки столбцов\n",
    "    cols = row.find_all('td')\n",
    "    cols = [col.text.strip() for col in cols]\n",
    "    data.append(cols)\n",
    "\n",
    "data = pd.DataFrame(data, columns=['Rank', 'Country', 'Annual_Deaths', 'Male_Deaths', 'Female_Deaths'])\n",
    "\n",
    "\n",
    "data.drop('Rank', axis=1, inplace=True) #удаляем столбец с номерами стран\n",
    "\n",
    "data_sorted1 = data.sort_values(by='Country') #отсортируем данные так, чтобы страны шли в алфавитном порядке, это нужно для облегчения процесса  дальнейшего сведения таблиц\n",
    "\n",
    "data_sorted1 = data_sorted1.sort_values(by='Country', ignore_index=True) #отсортируем данные по столбцу 'Country' с игнорированием нумерации\n",
    "\n",
    "data_sorted1['Country'] = data_sorted1['Country'].str.replace(r'[^\\x00-\\x7F]+', '', regex=True) # убираем флаги с помощью этой страшной штуки, так как те символы не ASCII, подводка к gpt аналогична \n",
    "\n",
    "\n",
    "\n",
    "data_sorted1.head()"
   ]
  },
  {
   "cell_type": "markdown",
   "metadata": {},
   "source": [
    "__Описание столбцов:__\n",
    "\n",
    "* `Country` -  название страны\n",
    "* `Annual_Deaths` - ежегодная смертность населения\n",
    "* `Мале_Deaths` - ежегодная смертность населения представителей мужского пола\n",
    "* `Femале_Deaths` - ежегодная смертность населения представителей женского пола"
   ]
  },
  {
   "cell_type": "markdown",
   "metadata": {},
   "source": [
    "Численность населения в каждой стране разная, поэтому нет смысла сравнивать, например, маленькую по площади страну с большой - в любом случае у второй смертность будет больше\n",
    "\n",
    "Поэтому стоит добавить еще и данные по численности населения\n",
    "\n",
    "Источник: https://database.earth/population/by-country/2022"
   ]
  },
  {
   "cell_type": "code",
   "execution_count": 73,
   "metadata": {
    "scrolled": true
   },
   "outputs": [
    {
     "name": "stdout",
     "output_type": "stream",
     "text": [
      "<Response [200]>\n"
     ]
    },
    {
     "data": {
      "text/html": [
       "<div>\n",
       "<style scoped>\n",
       "    .dataframe tbody tr th:only-of-type {\n",
       "        vertical-align: middle;\n",
       "    }\n",
       "\n",
       "    .dataframe tbody tr th {\n",
       "        vertical-align: top;\n",
       "    }\n",
       "\n",
       "    .dataframe thead th {\n",
       "        text-align: right;\n",
       "    }\n",
       "</style>\n",
       "<table border=\"1\" class=\"dataframe\">\n",
       "  <thead>\n",
       "    <tr style=\"text-align: right;\">\n",
       "      <th></th>\n",
       "      <th>Country</th>\n",
       "      <th>Population</th>\n",
       "    </tr>\n",
       "  </thead>\n",
       "  <tbody>\n",
       "    <tr>\n",
       "      <th>0</th>\n",
       "      <td>Andorra</td>\n",
       "      <td>79,824</td>\n",
       "    </tr>\n",
       "    <tr>\n",
       "      <th>1</th>\n",
       "      <td>United Arab Emirates</td>\n",
       "      <td>9,441,128</td>\n",
       "    </tr>\n",
       "    <tr>\n",
       "      <th>2</th>\n",
       "      <td>Afghanistan</td>\n",
       "      <td>41,128,771</td>\n",
       "    </tr>\n",
       "    <tr>\n",
       "      <th>3</th>\n",
       "      <td>Antigua and Barbuda</td>\n",
       "      <td>93,763</td>\n",
       "    </tr>\n",
       "    <tr>\n",
       "      <th>4</th>\n",
       "      <td>Anguilla</td>\n",
       "      <td>15,857</td>\n",
       "    </tr>\n",
       "  </tbody>\n",
       "</table>\n",
       "</div>"
      ],
      "text/plain": [
       "                Country  Population\n",
       "0               Andorra      79,824\n",
       "1  United Arab Emirates   9,441,128\n",
       "2           Afghanistan  41,128,771\n",
       "3   Antigua and Barbuda      93,763\n",
       "4              Anguilla      15,857"
      ]
     },
     "execution_count": 73,
     "metadata": {},
     "output_type": "execute_result"
    }
   ],
   "source": [
    "url = \"https://database.earth/population/by-country/2022\"\n",
    "response = requests.get(url) \n",
    "print(response) #результат 200, можно работать \n",
    "\n",
    "bs = BeautifulSoup(response.text, \"lxml\") #получаем исходный код\n",
    "data = []\n",
    "\n",
    "table1 = bs.find('table', class_=\"table-fixed w-full\") #достаем из исходного кода нужные данные\n",
    "rows = table1.find_all('tr')\n",
    "\n",
    "for row in rows[1:]:  # пропускаем первую строку, чтобы убрать заголовки столбцов\n",
    "    cols = row.find_all('td')\n",
    "    cols = [col.text.strip() for col in cols]\n",
    "    data.append(cols)\n",
    "\n",
    "data = pd.DataFrame(data, columns=['Country', 'Population', 'Overall Population Change +/-'])\n",
    "\n",
    "\n",
    "data.drop('Overall Population Change +/-', axis=1, inplace=True) #удаляем столбец с изменениями численности населения\n",
    "\n",
    "\n",
    "\n",
    "data_sorted2 = data.sort_values(by='Country') #отсортируем данные так, чтобы страны шли в алфавитном порядке, это нужно для облегчения процесса  дальнейшего сведения таблиц\n",
    "\n",
    "data_sorted2 = data_sorted2.sort_values(by='Country', ignore_index=True) #отсортируем данные по столбцу 'Country' с игнорированием нумерации\n",
    "\n",
    "data_sorted2['Country'] = data_sorted2['Country'].str.replace(r'[^\\x00-\\x7F]+', '', regex=True) # убираем флаги с помощью этой страшной штуки, так как те символы не ASCII, подводка к gpt аналогична\n",
    "\n",
    "data_sorted2.head()"
   ]
  },
  {
   "cell_type": "markdown",
   "metadata": {},
   "source": [
    "__Описание столбцов:__\n",
    "\n",
    "* `Country` -  название страны\n",
    "* `Population` - численность населения в стране\n"
   ]
  },
  {
   "cell_type": "markdown",
   "metadata": {},
   "source": [
    "Теперь сведем две последние таблицы и посмотрим на ее размерность"
   ]
  },
  {
   "cell_type": "code",
   "execution_count": 74,
   "metadata": {
    "scrolled": false
   },
   "outputs": [
    {
     "data": {
      "text/html": [
       "<div>\n",
       "<style scoped>\n",
       "    .dataframe tbody tr th:only-of-type {\n",
       "        vertical-align: middle;\n",
       "    }\n",
       "\n",
       "    .dataframe tbody tr th {\n",
       "        vertical-align: top;\n",
       "    }\n",
       "\n",
       "    .dataframe thead th {\n",
       "        text-align: right;\n",
       "    }\n",
       "</style>\n",
       "<table border=\"1\" class=\"dataframe\">\n",
       "  <thead>\n",
       "    <tr style=\"text-align: right;\">\n",
       "      <th></th>\n",
       "      <th>Country</th>\n",
       "      <th>Annual_Deaths</th>\n",
       "      <th>Male_Deaths</th>\n",
       "      <th>Female_Deaths</th>\n",
       "      <th>Population</th>\n",
       "    </tr>\n",
       "  </thead>\n",
       "  <tbody>\n",
       "    <tr>\n",
       "      <th>0</th>\n",
       "      <td>Andorra</td>\n",
       "      <td>502</td>\n",
       "      <td>279</td>\n",
       "      <td>224</td>\n",
       "      <td>79,824</td>\n",
       "    </tr>\n",
       "    <tr>\n",
       "      <th>1</th>\n",
       "      <td>United Arab Emirates</td>\n",
       "      <td>17,609</td>\n",
       "      <td>11,993</td>\n",
       "      <td>5,616</td>\n",
       "      <td>9,441,128</td>\n",
       "    </tr>\n",
       "    <tr>\n",
       "      <th>2</th>\n",
       "      <td>Afghanistan</td>\n",
       "      <td>284,297</td>\n",
       "      <td>163,410</td>\n",
       "      <td>120,887</td>\n",
       "      <td>41,128,771</td>\n",
       "    </tr>\n",
       "    <tr>\n",
       "      <th>3</th>\n",
       "      <td>Antigua and Barbuda</td>\n",
       "      <td>571</td>\n",
       "      <td>293</td>\n",
       "      <td>278</td>\n",
       "      <td>93,763</td>\n",
       "    </tr>\n",
       "    <tr>\n",
       "      <th>4</th>\n",
       "      <td>Anguilla</td>\n",
       "      <td>103</td>\n",
       "      <td>64</td>\n",
       "      <td>38</td>\n",
       "      <td>15,857</td>\n",
       "    </tr>\n",
       "  </tbody>\n",
       "</table>\n",
       "</div>"
      ],
      "text/plain": [
       "                Country Annual_Deaths Male_Deaths Female_Deaths  Population\n",
       "0               Andorra           502         279           224      79,824\n",
       "1  United Arab Emirates        17,609      11,993         5,616   9,441,128\n",
       "2           Afghanistan       284,297     163,410       120,887  41,128,771\n",
       "3   Antigua and Barbuda           571         293           278      93,763\n",
       "4              Anguilla           103          64            38      15,857"
      ]
     },
     "execution_count": 74,
     "metadata": {},
     "output_type": "execute_result"
    }
   ],
   "source": [
    "merged_df = pd.merge(data_sorted1, data_sorted2, on='Country', how='inner')\n",
    "\n",
    "merged_df.head()\n"
   ]
  },
  {
   "cell_type": "code",
   "execution_count": 75,
   "metadata": {
    "scrolled": false
   },
   "outputs": [
    {
     "data": {
      "text/plain": [
       "(237, 5)"
      ]
     },
     "execution_count": 75,
     "metadata": {},
     "output_type": "execute_result"
    }
   ],
   "source": [
    "merged_df.shape"
   ]
  },
  {
   "cell_type": "markdown",
   "metadata": {},
   "source": [
    "Первая таблица намного меньше второй объединенной, однако их все равно надо \"склеить\" по Country"
   ]
  },
  {
   "cell_type": "code",
   "execution_count": 76,
   "metadata": {
    "scrolled": false
   },
   "outputs": [
    {
     "data": {
      "text/html": [
       "<div>\n",
       "<style scoped>\n",
       "    .dataframe tbody tr th:only-of-type {\n",
       "        vertical-align: middle;\n",
       "    }\n",
       "\n",
       "    .dataframe tbody tr th {\n",
       "        vertical-align: top;\n",
       "    }\n",
       "\n",
       "    .dataframe thead th {\n",
       "        text-align: right;\n",
       "    }\n",
       "</style>\n",
       "<table border=\"1\" class=\"dataframe\">\n",
       "  <thead>\n",
       "    <tr style=\"text-align: right;\">\n",
       "      <th></th>\n",
       "      <th>Country</th>\n",
       "      <th>Annual_Deaths</th>\n",
       "      <th>Male_Deaths</th>\n",
       "      <th>Female_Deaths</th>\n",
       "      <th>Population</th>\n",
       "      <th>Index</th>\n",
       "      <th>Ten_year_change</th>\n",
       "    </tr>\n",
       "  </thead>\n",
       "  <tbody>\n",
       "    <tr>\n",
       "      <th>0</th>\n",
       "      <td>Andorra</td>\n",
       "      <td>502</td>\n",
       "      <td>279</td>\n",
       "      <td>224</td>\n",
       "      <td>79,824</td>\n",
       "      <td>NaN</td>\n",
       "      <td>NaN</td>\n",
       "    </tr>\n",
       "    <tr>\n",
       "      <th>1</th>\n",
       "      <td>United Arab Emirates</td>\n",
       "      <td>17,609</td>\n",
       "      <td>11,993</td>\n",
       "      <td>5,616</td>\n",
       "      <td>9,441,128</td>\n",
       "      <td>52.40</td>\n",
       "      <td>15.90</td>\n",
       "    </tr>\n",
       "    <tr>\n",
       "      <th>2</th>\n",
       "      <td>Afghanistan</td>\n",
       "      <td>284,297</td>\n",
       "      <td>163,410</td>\n",
       "      <td>120,887</td>\n",
       "      <td>41,128,771</td>\n",
       "      <td>43.60</td>\n",
       "      <td>23.90</td>\n",
       "    </tr>\n",
       "    <tr>\n",
       "      <th>3</th>\n",
       "      <td>Antigua and Barbuda</td>\n",
       "      <td>571</td>\n",
       "      <td>293</td>\n",
       "      <td>278</td>\n",
       "      <td>93,763</td>\n",
       "      <td>52.40</td>\n",
       "      <td>9.70</td>\n",
       "    </tr>\n",
       "    <tr>\n",
       "      <th>4</th>\n",
       "      <td>Anguilla</td>\n",
       "      <td>103</td>\n",
       "      <td>64</td>\n",
       "      <td>38</td>\n",
       "      <td>15,857</td>\n",
       "      <td>NaN</td>\n",
       "      <td>NaN</td>\n",
       "    </tr>\n",
       "  </tbody>\n",
       "</table>\n",
       "</div>"
      ],
      "text/plain": [
       "                Country Annual_Deaths Male_Deaths Female_Deaths  Population  \\\n",
       "0               Andorra           502         279           224      79,824   \n",
       "1  United Arab Emirates        17,609      11,993         5,616   9,441,128   \n",
       "2           Afghanistan       284,297     163,410       120,887  41,128,771   \n",
       "3   Antigua and Barbuda           571         293           278      93,763   \n",
       "4              Anguilla           103          64            38      15,857   \n",
       "\n",
       "   Index Ten_year_change  \n",
       "0    NaN             NaN  \n",
       "1  52.40           15.90  \n",
       "2  43.60           23.90  \n",
       "3  52.40            9.70  \n",
       "4    NaN             NaN  "
      ]
     },
     "execution_count": 76,
     "metadata": {},
     "output_type": "execute_result"
    }
   ],
   "source": [
    "merged_df2 = pd.merge(merged_df, data_sorted, on='Country', how='left')\n",
    "\n",
    "merged_df2.head()"
   ]
  },
  {
   "cell_type": "code",
   "execution_count": 77,
   "metadata": {
    "scrolled": false
   },
   "outputs": [
    {
     "data": {
      "text/plain": [
       "(237, 5)"
      ]
     },
     "execution_count": 77,
     "metadata": {},
     "output_type": "execute_result"
    }
   ],
   "source": [
    "merged_df.shape"
   ]
  },
  {
   "cell_type": "markdown",
   "metadata": {},
   "source": [
    "\n",
    "Датасет готов, можно приступать к следующему шагу"
   ]
  },
  {
   "cell_type": "markdown",
   "metadata": {},
   "source": [
    "##  Предварительная обработка"
   ]
  },
  {
   "cell_type": "markdown",
   "metadata": {},
   "source": [
    "\n",
    "\n",
    "На данном этапе будет выполнен анализ полученного датасета\n",
    "\n",
    "Для начала проверим, есть ли в текущих данных пропуски и отсортируем их (при наличии)"
   ]
  },
  {
   "cell_type": "code",
   "execution_count": 78,
   "metadata": {},
   "outputs": [
    {
     "data": {
      "text/plain": [
       "Index              72\n",
       "Ten_year_change    72\n",
       "Country             0\n",
       "Annual_Deaths       0\n",
       "Male_Deaths         0\n",
       "Female_Deaths       0\n",
       "Population          0\n",
       "dtype: int64"
      ]
     },
     "execution_count": 78,
     "metadata": {},
     "output_type": "execute_result"
    }
   ],
   "source": [
    "merged_df2.isnull().sum().sort_values(ascending=False)"
   ]
  },
  {
   "cell_type": "markdown",
   "metadata": {},
   "source": [
    "Как видим, пропусков достаточно много. Это связано с тем, что в первом источнике стран меньше, чем во втором и третьем: некоторые совпадают, а некоторые вовсе отсутствуют в первой таблице. При этом мы считаем неправильным заменять эти значения на что-то нейтральное, поскольку тогда может сильно исказиться визуализация: у небольших по численности населения стран будут \"средние\" по величине показатели индексов. Поэтому выбросим строки, в которых значения пропущены (по сути это страны из 2 и 3 источников, которые не были обнаружены в 1 источнике). \n",
    "\n"
   ]
  },
  {
   "cell_type": "code",
   "execution_count": 79,
   "metadata": {},
   "outputs": [
    {
     "data": {
      "text/html": [
       "<div>\n",
       "<style scoped>\n",
       "    .dataframe tbody tr th:only-of-type {\n",
       "        vertical-align: middle;\n",
       "    }\n",
       "\n",
       "    .dataframe tbody tr th {\n",
       "        vertical-align: top;\n",
       "    }\n",
       "\n",
       "    .dataframe thead th {\n",
       "        text-align: right;\n",
       "    }\n",
       "</style>\n",
       "<table border=\"1\" class=\"dataframe\">\n",
       "  <thead>\n",
       "    <tr style=\"text-align: right;\">\n",
       "      <th></th>\n",
       "      <th>Country</th>\n",
       "      <th>Annual_Deaths</th>\n",
       "      <th>Male_Deaths</th>\n",
       "      <th>Female_Deaths</th>\n",
       "      <th>Population</th>\n",
       "      <th>Index</th>\n",
       "      <th>Ten_year_change</th>\n",
       "    </tr>\n",
       "  </thead>\n",
       "  <tbody>\n",
       "    <tr>\n",
       "      <th>1</th>\n",
       "      <td>United Arab Emirates</td>\n",
       "      <td>17,609</td>\n",
       "      <td>11,993</td>\n",
       "      <td>5,616</td>\n",
       "      <td>9,441,128</td>\n",
       "      <td>52.40</td>\n",
       "      <td>15.90</td>\n",
       "    </tr>\n",
       "    <tr>\n",
       "      <th>2</th>\n",
       "      <td>Afghanistan</td>\n",
       "      <td>284,297</td>\n",
       "      <td>163,410</td>\n",
       "      <td>120,887</td>\n",
       "      <td>41,128,771</td>\n",
       "      <td>43.60</td>\n",
       "      <td>23.90</td>\n",
       "    </tr>\n",
       "    <tr>\n",
       "      <th>3</th>\n",
       "      <td>Antigua and Barbuda</td>\n",
       "      <td>571</td>\n",
       "      <td>293</td>\n",
       "      <td>278</td>\n",
       "      <td>93,763</td>\n",
       "      <td>52.40</td>\n",
       "      <td>9.70</td>\n",
       "    </tr>\n",
       "    <tr>\n",
       "      <th>5</th>\n",
       "      <td>Albania</td>\n",
       "      <td>31,863</td>\n",
       "      <td>18,601</td>\n",
       "      <td>13,261</td>\n",
       "      <td>2,842,321</td>\n",
       "      <td>47.10</td>\n",
       "      <td>9.90</td>\n",
       "    </tr>\n",
       "    <tr>\n",
       "      <th>6</th>\n",
       "      <td>Armenia</td>\n",
       "      <td>33,059</td>\n",
       "      <td>17,541</td>\n",
       "      <td>15,518</td>\n",
       "      <td>2,780,469</td>\n",
       "      <td>48.30</td>\n",
       "      <td>4.80</td>\n",
       "    </tr>\n",
       "  </tbody>\n",
       "</table>\n",
       "</div>"
      ],
      "text/plain": [
       "                Country Annual_Deaths Male_Deaths Female_Deaths  Population  \\\n",
       "1  United Arab Emirates        17,609      11,993         5,616   9,441,128   \n",
       "2           Afghanistan       284,297     163,410       120,887  41,128,771   \n",
       "3   Antigua and Barbuda           571         293           278      93,763   \n",
       "5               Albania        31,863      18,601        13,261   2,842,321   \n",
       "6               Armenia        33,059      17,541        15,518   2,780,469   \n",
       "\n",
       "   Index Ten_year_change  \n",
       "1  52.40           15.90  \n",
       "2  43.60           23.90  \n",
       "3  52.40            9.70  \n",
       "5  47.10            9.90  \n",
       "6  48.30            4.80  "
      ]
     },
     "execution_count": 79,
     "metadata": {},
     "output_type": "execute_result"
    }
   ],
   "source": [
    "df_new = merged_df2.dropna()\n",
    "\n",
    "\n",
    "df_new.head()"
   ]
  },
  {
   "cell_type": "code",
   "execution_count": 80,
   "metadata": {
    "scrolled": false
   },
   "outputs": [
    {
     "data": {
      "text/plain": [
       "(165, 7)"
      ]
     },
     "execution_count": 80,
     "metadata": {},
     "output_type": "execute_result"
    }
   ],
   "source": [
    "df_new.shape"
   ]
  },
  {
   "cell_type": "markdown",
   "metadata": {},
   "source": [
    "Выборка сильно уменьшилась (с 237 элементов до 165), это, опять же, произошло из-за того, что не все страны из 1 источника совпадали со 2 и 3 и наоборот. Однако сейчас в датасете нет пропусков вовсе, с такими данными удобно работать. Теперь уберем запятые в первых четырех числовых столбцах в таблице."
   ]
  },
  {
   "cell_type": "code",
   "execution_count": 81,
   "metadata": {},
   "outputs": [
    {
     "data": {
      "text/html": [
       "<div>\n",
       "<style scoped>\n",
       "    .dataframe tbody tr th:only-of-type {\n",
       "        vertical-align: middle;\n",
       "    }\n",
       "\n",
       "    .dataframe tbody tr th {\n",
       "        vertical-align: top;\n",
       "    }\n",
       "\n",
       "    .dataframe thead th {\n",
       "        text-align: right;\n",
       "    }\n",
       "</style>\n",
       "<table border=\"1\" class=\"dataframe\">\n",
       "  <thead>\n",
       "    <tr style=\"text-align: right;\">\n",
       "      <th></th>\n",
       "      <th>Country</th>\n",
       "      <th>Annual_Deaths</th>\n",
       "      <th>Male_Deaths</th>\n",
       "      <th>Female_Deaths</th>\n",
       "      <th>Population</th>\n",
       "      <th>Index</th>\n",
       "      <th>Ten_year_change</th>\n",
       "    </tr>\n",
       "  </thead>\n",
       "  <tbody>\n",
       "    <tr>\n",
       "      <th>1</th>\n",
       "      <td>United Arab Emirates</td>\n",
       "      <td>17609</td>\n",
       "      <td>11993</td>\n",
       "      <td>5616</td>\n",
       "      <td>9441128</td>\n",
       "      <td>52.40</td>\n",
       "      <td>15.90</td>\n",
       "    </tr>\n",
       "    <tr>\n",
       "      <th>2</th>\n",
       "      <td>Afghanistan</td>\n",
       "      <td>284297</td>\n",
       "      <td>163410</td>\n",
       "      <td>120887</td>\n",
       "      <td>41128771</td>\n",
       "      <td>43.60</td>\n",
       "      <td>23.90</td>\n",
       "    </tr>\n",
       "    <tr>\n",
       "      <th>3</th>\n",
       "      <td>Antigua and Barbuda</td>\n",
       "      <td>571</td>\n",
       "      <td>293</td>\n",
       "      <td>278</td>\n",
       "      <td>93763</td>\n",
       "      <td>52.40</td>\n",
       "      <td>9.70</td>\n",
       "    </tr>\n",
       "    <tr>\n",
       "      <th>5</th>\n",
       "      <td>Albania</td>\n",
       "      <td>31863</td>\n",
       "      <td>18601</td>\n",
       "      <td>13261</td>\n",
       "      <td>2842321</td>\n",
       "      <td>47.10</td>\n",
       "      <td>9.90</td>\n",
       "    </tr>\n",
       "    <tr>\n",
       "      <th>6</th>\n",
       "      <td>Armenia</td>\n",
       "      <td>33059</td>\n",
       "      <td>17541</td>\n",
       "      <td>15518</td>\n",
       "      <td>2780469</td>\n",
       "      <td>48.30</td>\n",
       "      <td>4.80</td>\n",
       "    </tr>\n",
       "  </tbody>\n",
       "</table>\n",
       "</div>"
      ],
      "text/plain": [
       "                Country Annual_Deaths Male_Deaths Female_Deaths Population  \\\n",
       "1  United Arab Emirates         17609       11993          5616    9441128   \n",
       "2           Afghanistan        284297      163410        120887   41128771   \n",
       "3   Antigua and Barbuda           571         293           278      93763   \n",
       "5               Albania         31863       18601         13261    2842321   \n",
       "6               Armenia         33059       17541         15518    2780469   \n",
       "\n",
       "   Index Ten_year_change  \n",
       "1  52.40           15.90  \n",
       "2  43.60           23.90  \n",
       "3  52.40            9.70  \n",
       "5  47.10            9.90  \n",
       "6  48.30            4.80  "
      ]
     },
     "execution_count": 81,
     "metadata": {},
     "output_type": "execute_result"
    }
   ],
   "source": [
    "df = df_new.replace(',', '', regex=True)\n",
    "\n",
    "df.head()"
   ]
  },
  {
   "cell_type": "markdown",
   "metadata": {},
   "source": [
    "Именно с этим датасетом мы будем работать в следующем шаге\n",
    "\n",
    "А пока отсортируем старую таблицу по столбцу Population в порядке возрастания и посмотрим на значения индекса экологической эффективности (десятилетний период нас пока не интересует)\n",
    "\n",
    "Зачем это делается: нам хочется посмотреть, какие именно данные были выброшены."
   ]
  },
  {
   "cell_type": "code",
   "execution_count": 82,
   "metadata": {
    "scrolled": true
   },
   "outputs": [
    {
     "data": {
      "text/html": [
       "<div>\n",
       "<style scoped>\n",
       "    .dataframe tbody tr th:only-of-type {\n",
       "        vertical-align: middle;\n",
       "    }\n",
       "\n",
       "    .dataframe tbody tr th {\n",
       "        vertical-align: top;\n",
       "    }\n",
       "\n",
       "    .dataframe thead th {\n",
       "        text-align: right;\n",
       "    }\n",
       "</style>\n",
       "<table border=\"1\" class=\"dataframe\">\n",
       "  <thead>\n",
       "    <tr style=\"text-align: right;\">\n",
       "      <th></th>\n",
       "      <th>Country</th>\n",
       "      <th>Annual_Deaths</th>\n",
       "      <th>Male_Deaths</th>\n",
       "      <th>Female_Deaths</th>\n",
       "      <th>Population</th>\n",
       "      <th>Index</th>\n",
       "      <th>Ten_year_change</th>\n",
       "    </tr>\n",
       "  </thead>\n",
       "  <tbody>\n",
       "    <tr>\n",
       "      <th>0</th>\n",
       "      <td>Holy See</td>\n",
       "      <td>10</td>\n",
       "      <td>5</td>\n",
       "      <td>5</td>\n",
       "      <td>510</td>\n",
       "      <td>NaN</td>\n",
       "      <td>NaN</td>\n",
       "    </tr>\n",
       "    <tr>\n",
       "      <th>1</th>\n",
       "      <td>Tokelau</td>\n",
       "      <td>14</td>\n",
       "      <td>6</td>\n",
       "      <td>7</td>\n",
       "      <td>1871</td>\n",
       "      <td>NaN</td>\n",
       "      <td>NaN</td>\n",
       "    </tr>\n",
       "    <tr>\n",
       "      <th>2</th>\n",
       "      <td>Niue</td>\n",
       "      <td>27</td>\n",
       "      <td>12</td>\n",
       "      <td>14</td>\n",
       "      <td>1934</td>\n",
       "      <td>NaN</td>\n",
       "      <td>NaN</td>\n",
       "    </tr>\n",
       "    <tr>\n",
       "      <th>3</th>\n",
       "      <td>Falkland Islands (Malvinas)</td>\n",
       "      <td>27</td>\n",
       "      <td>15</td>\n",
       "      <td>12</td>\n",
       "      <td>3780</td>\n",
       "      <td>NaN</td>\n",
       "      <td>NaN</td>\n",
       "    </tr>\n",
       "    <tr>\n",
       "      <th>4</th>\n",
       "      <td>Montserrat</td>\n",
       "      <td>50</td>\n",
       "      <td>30</td>\n",
       "      <td>20</td>\n",
       "      <td>4390</td>\n",
       "      <td>NaN</td>\n",
       "      <td>NaN</td>\n",
       "    </tr>\n",
       "    <tr>\n",
       "      <th>5</th>\n",
       "      <td>Saint Helena</td>\n",
       "      <td>96</td>\n",
       "      <td>59</td>\n",
       "      <td>37</td>\n",
       "      <td>5374</td>\n",
       "      <td>NaN</td>\n",
       "      <td>NaN</td>\n",
       "    </tr>\n",
       "    <tr>\n",
       "      <th>6</th>\n",
       "      <td>Saint Pierre and Miquelon</td>\n",
       "      <td>71</td>\n",
       "      <td>38</td>\n",
       "      <td>33</td>\n",
       "      <td>5862</td>\n",
       "      <td>NaN</td>\n",
       "      <td>NaN</td>\n",
       "    </tr>\n",
       "    <tr>\n",
       "      <th>7</th>\n",
       "      <td>Saint Barthlemy</td>\n",
       "      <td>61</td>\n",
       "      <td>34</td>\n",
       "      <td>27</td>\n",
       "      <td>10967</td>\n",
       "      <td>NaN</td>\n",
       "      <td>NaN</td>\n",
       "    </tr>\n",
       "    <tr>\n",
       "      <th>8</th>\n",
       "      <td>Tuvalu</td>\n",
       "      <td>115</td>\n",
       "      <td>68</td>\n",
       "      <td>46</td>\n",
       "      <td>11312</td>\n",
       "      <td>NaN</td>\n",
       "      <td>NaN</td>\n",
       "    </tr>\n",
       "    <tr>\n",
       "      <th>9</th>\n",
       "      <td>Wallis and Futuna Islands</td>\n",
       "      <td>77</td>\n",
       "      <td>40</td>\n",
       "      <td>37</td>\n",
       "      <td>11572</td>\n",
       "      <td>NaN</td>\n",
       "      <td>NaN</td>\n",
       "    </tr>\n",
       "    <tr>\n",
       "      <th>10</th>\n",
       "      <td>Nauru</td>\n",
       "      <td>84</td>\n",
       "      <td>50</td>\n",
       "      <td>34</td>\n",
       "      <td>12668</td>\n",
       "      <td>NaN</td>\n",
       "      <td>NaN</td>\n",
       "    </tr>\n",
       "    <tr>\n",
       "      <th>11</th>\n",
       "      <td>Anguilla</td>\n",
       "      <td>103</td>\n",
       "      <td>64</td>\n",
       "      <td>38</td>\n",
       "      <td>15857</td>\n",
       "      <td>NaN</td>\n",
       "      <td>NaN</td>\n",
       "    </tr>\n",
       "    <tr>\n",
       "      <th>12</th>\n",
       "      <td>Cook Islands</td>\n",
       "      <td>144</td>\n",
       "      <td>85</td>\n",
       "      <td>59</td>\n",
       "      <td>17010</td>\n",
       "      <td>NaN</td>\n",
       "      <td>NaN</td>\n",
       "    </tr>\n",
       "    <tr>\n",
       "      <th>13</th>\n",
       "      <td>Palau</td>\n",
       "      <td>242</td>\n",
       "      <td>144</td>\n",
       "      <td>99</td>\n",
       "      <td>18055</td>\n",
       "      <td>NaN</td>\n",
       "      <td>NaN</td>\n",
       "    </tr>\n",
       "    <tr>\n",
       "      <th>14</th>\n",
       "      <td>Bonaire Sint Eustatius and Saba</td>\n",
       "      <td>278</td>\n",
       "      <td>167</td>\n",
       "      <td>111</td>\n",
       "      <td>27026</td>\n",
       "      <td>NaN</td>\n",
       "      <td>NaN</td>\n",
       "    </tr>\n",
       "    <tr>\n",
       "      <th>15</th>\n",
       "      <td>British Virgin Islands</td>\n",
       "      <td>203</td>\n",
       "      <td>118</td>\n",
       "      <td>86</td>\n",
       "      <td>31305</td>\n",
       "      <td>NaN</td>\n",
       "      <td>NaN</td>\n",
       "    </tr>\n",
       "    <tr>\n",
       "      <th>16</th>\n",
       "      <td>Saint Martin (French part)</td>\n",
       "      <td>162</td>\n",
       "      <td>97</td>\n",
       "      <td>65</td>\n",
       "      <td>31791</td>\n",
       "      <td>NaN</td>\n",
       "      <td>NaN</td>\n",
       "    </tr>\n",
       "    <tr>\n",
       "      <th>17</th>\n",
       "      <td>Gibraltar</td>\n",
       "      <td>278</td>\n",
       "      <td>138</td>\n",
       "      <td>140</td>\n",
       "      <td>32649</td>\n",
       "      <td>NaN</td>\n",
       "      <td>NaN</td>\n",
       "    </tr>\n",
       "    <tr>\n",
       "      <th>18</th>\n",
       "      <td>San Marino</td>\n",
       "      <td>323</td>\n",
       "      <td>154</td>\n",
       "      <td>170</td>\n",
       "      <td>33660</td>\n",
       "      <td>NaN</td>\n",
       "      <td>NaN</td>\n",
       "    </tr>\n",
       "    <tr>\n",
       "      <th>19</th>\n",
       "      <td>Monaco</td>\n",
       "      <td>706</td>\n",
       "      <td>360</td>\n",
       "      <td>346</td>\n",
       "      <td>36469</td>\n",
       "      <td>NaN</td>\n",
       "      <td>NaN</td>\n",
       "    </tr>\n",
       "    <tr>\n",
       "      <th>20</th>\n",
       "      <td>Liechtenstein</td>\n",
       "      <td>251</td>\n",
       "      <td>128</td>\n",
       "      <td>122</td>\n",
       "      <td>39327</td>\n",
       "      <td>NaN</td>\n",
       "      <td>NaN</td>\n",
       "    </tr>\n",
       "    <tr>\n",
       "      <th>21</th>\n",
       "      <td>Marshall Islands</td>\n",
       "      <td>329</td>\n",
       "      <td>188</td>\n",
       "      <td>141</td>\n",
       "      <td>41569</td>\n",
       "      <td>36.20</td>\n",
       "      <td>0.70</td>\n",
       "    </tr>\n",
       "    <tr>\n",
       "      <th>22</th>\n",
       "      <td>Sint Maarten (Dutch part)</td>\n",
       "      <td>346</td>\n",
       "      <td>206</td>\n",
       "      <td>140</td>\n",
       "      <td>44175</td>\n",
       "      <td>NaN</td>\n",
       "      <td>NaN</td>\n",
       "    </tr>\n",
       "    <tr>\n",
       "      <th>23</th>\n",
       "      <td>American Samoa</td>\n",
       "      <td>311</td>\n",
       "      <td>176</td>\n",
       "      <td>135</td>\n",
       "      <td>44272</td>\n",
       "      <td>NaN</td>\n",
       "      <td>NaN</td>\n",
       "    </tr>\n",
       "    <tr>\n",
       "      <th>24</th>\n",
       "      <td>Turks and Caicos Islands</td>\n",
       "      <td>412</td>\n",
       "      <td>231</td>\n",
       "      <td>181</td>\n",
       "      <td>45702</td>\n",
       "      <td>NaN</td>\n",
       "      <td>NaN</td>\n",
       "    </tr>\n",
       "    <tr>\n",
       "      <th>25</th>\n",
       "      <td>Saint Kitts and Nevis</td>\n",
       "      <td>480</td>\n",
       "      <td>273</td>\n",
       "      <td>207</td>\n",
       "      <td>47658</td>\n",
       "      <td>NaN</td>\n",
       "      <td>NaN</td>\n",
       "    </tr>\n",
       "    <tr>\n",
       "      <th>26</th>\n",
       "      <td>Northern Mariana Islands</td>\n",
       "      <td>303</td>\n",
       "      <td>185</td>\n",
       "      <td>118</td>\n",
       "      <td>49551</td>\n",
       "      <td>NaN</td>\n",
       "      <td>NaN</td>\n",
       "    </tr>\n",
       "    <tr>\n",
       "      <th>27</th>\n",
       "      <td>Faroe Islands</td>\n",
       "      <td>626</td>\n",
       "      <td>326</td>\n",
       "      <td>300</td>\n",
       "      <td>53090</td>\n",
       "      <td>NaN</td>\n",
       "      <td>NaN</td>\n",
       "    </tr>\n",
       "    <tr>\n",
       "      <th>28</th>\n",
       "      <td>Greenland</td>\n",
       "      <td>506</td>\n",
       "      <td>323</td>\n",
       "      <td>183</td>\n",
       "      <td>56466</td>\n",
       "      <td>NaN</td>\n",
       "      <td>NaN</td>\n",
       "    </tr>\n",
       "    <tr>\n",
       "      <th>29</th>\n",
       "      <td>Guernsey</td>\n",
       "      <td>480</td>\n",
       "      <td>246</td>\n",
       "      <td>234</td>\n",
       "      <td>63301</td>\n",
       "      <td>NaN</td>\n",
       "      <td>NaN</td>\n",
       "    </tr>\n",
       "  </tbody>\n",
       "</table>\n",
       "</div>"
      ],
      "text/plain": [
       "                            Country Annual_Deaths Male_Deaths Female_Deaths  \\\n",
       "0                          Holy See            10           5             5   \n",
       "1                           Tokelau            14           6             7   \n",
       "2                              Niue            27          12            14   \n",
       "3       Falkland Islands (Malvinas)            27          15            12   \n",
       "4                        Montserrat            50          30            20   \n",
       "5                      Saint Helena            96          59            37   \n",
       "6         Saint Pierre and Miquelon            71          38            33   \n",
       "7                   Saint Barthlemy            61          34            27   \n",
       "8                            Tuvalu           115          68            46   \n",
       "9         Wallis and Futuna Islands            77          40            37   \n",
       "10                            Nauru            84          50            34   \n",
       "11                         Anguilla           103          64            38   \n",
       "12                     Cook Islands           144          85            59   \n",
       "13                            Palau           242         144            99   \n",
       "14  Bonaire Sint Eustatius and Saba           278         167           111   \n",
       "15           British Virgin Islands           203         118            86   \n",
       "16       Saint Martin (French part)           162          97            65   \n",
       "17                        Gibraltar           278         138           140   \n",
       "18                       San Marino           323         154           170   \n",
       "19                           Monaco           706         360           346   \n",
       "20                    Liechtenstein           251         128           122   \n",
       "21                 Marshall Islands           329         188           141   \n",
       "22        Sint Maarten (Dutch part)           346         206           140   \n",
       "23                   American Samoa           311         176           135   \n",
       "24         Turks and Caicos Islands           412         231           181   \n",
       "25            Saint Kitts and Nevis           480         273           207   \n",
       "26         Northern Mariana Islands           303         185           118   \n",
       "27                    Faroe Islands           626         326           300   \n",
       "28                        Greenland           506         323           183   \n",
       "29                         Guernsey           480         246           234   \n",
       "\n",
       "    Population  Index Ten_year_change  \n",
       "0          510    NaN             NaN  \n",
       "1         1871    NaN             NaN  \n",
       "2         1934    NaN             NaN  \n",
       "3         3780    NaN             NaN  \n",
       "4         4390    NaN             NaN  \n",
       "5         5374    NaN             NaN  \n",
       "6         5862    NaN             NaN  \n",
       "7        10967    NaN             NaN  \n",
       "8        11312    NaN             NaN  \n",
       "9        11572    NaN             NaN  \n",
       "10       12668    NaN             NaN  \n",
       "11       15857    NaN             NaN  \n",
       "12       17010    NaN             NaN  \n",
       "13       18055    NaN             NaN  \n",
       "14       27026    NaN             NaN  \n",
       "15       31305    NaN             NaN  \n",
       "16       31791    NaN             NaN  \n",
       "17       32649    NaN             NaN  \n",
       "18       33660    NaN             NaN  \n",
       "19       36469    NaN             NaN  \n",
       "20       39327    NaN             NaN  \n",
       "21       41569  36.20            0.70  \n",
       "22       44175    NaN             NaN  \n",
       "23       44272    NaN             NaN  \n",
       "24       45702    NaN             NaN  \n",
       "25       47658    NaN             NaN  \n",
       "26       49551    NaN             NaN  \n",
       "27       53090    NaN             NaN  \n",
       "28       56466    NaN             NaN  \n",
       "29       63301    NaN             NaN  "
      ]
     },
     "execution_count": 82,
     "metadata": {},
     "output_type": "execute_result"
    }
   ],
   "source": [
    "prev_df = merged_df2.replace(',', '', regex=True)\n",
    "\n",
    "prev_df['Population'] = prev_df['Population'].astype(int)\n",
    "\n",
    "df_population = prev_df.sort_values(by='Population', ignore_index=True)\n",
    "\n",
    "df_population.head(30)\n",
    "\n",
    "\n"
   ]
  },
  {
   "cell_type": "markdown",
   "metadata": {},
   "source": [
    "Вывод здесь таков: из таблицы были выброшены в основном те страны, которые можно отнести к самым маленьким по численности населения. Это неплохо, поскольку у таких стран также небольшая и смертность в сравнении с другими, что очевидно. Адекватно оценить это со средними или медианным значениями в пропусках было бы нереальной задачей. Итог бы получился таким: страны с серединным значением индекса имеют низкую смертность за год, значит, они хорошо поддерживают уровень экологии. Но этот результат был бы получен без учета численности населения. \n",
    "\n",
    "Поэтому выбросы быил сделаны не зря."
   ]
  },
  {
   "cell_type": "markdown",
   "metadata": {},
   "source": [
    "##  EDA и визуализация"
   ]
  },
  {
   "cell_type": "markdown",
   "metadata": {},
   "source": [
    "Найдем максимальное и минимальное значения столбца с индексами, а также их медиану"
   ]
  },
  {
   "cell_type": "code",
   "execution_count": 83,
   "metadata": {
    "scrolled": false
   },
   "outputs": [
    {
     "name": "stdout",
     "output_type": "stream",
     "text": [
      " Максимальное значение индекса экологической эффективности: 77.90\n",
      " Минимальное значение индекса экологической эффективности: 18.90\n",
      " Медианное значение индекса экологической эффективности: 42.4\n"
     ]
    }
   ],
   "source": [
    "print(f\" Максимальное значение индекса экологической эффективности: {df['Index'].max()}\")\n",
    "print(f\" Минимальное значение индекса экологической эффективности: {df['Index'].min()}\")\n",
    "print(f\" Медианное значение индекса экологической эффективности: {df['Index'].median()}\")"
   ]
  },
  {
   "cell_type": "markdown",
   "metadata": {},
   "source": [
    "Попробуем разбить страны на две большие группы: с индексом от минимального до медианного и с индексом от медианного до максимального, а далее визулизировать распреление женской и мужской смертности в таких странах.\n"
   ]
  },
  {
   "cell_type": "code",
   "execution_count": 84,
   "metadata": {
    "scrolled": false
   },
   "outputs": [
    {
     "data": {
      "text/plain": [
       "<Figure size 1200x600 with 0 Axes>"
      ]
     },
     "metadata": {},
     "output_type": "display_data"
    },
    {
     "data": {
      "image/png": "[encoded data removed]",
      "text/plain": [
       "<Figure size 640x480 with 1 Axes>"
      ]
     },
     "metadata": {},
     "output_type": "display_data"
    },
    {
     "data": {
      "text/plain": [
       "<Figure size 1200x600 with 0 Axes>"
      ]
     },
     "metadata": {},
     "output_type": "display_data"
    },
    {
     "data": {
      "image/png": "[encoded data removed]",
      "text/plain": [
       "<Figure size 640x480 with 1 Axes>"
      ]
     },
     "metadata": {},
     "output_type": "display_data"
    }
   ],
   "source": [
    "df['Index'] = pd.to_numeric(df['Index'], errors='coerce')\n",
    "df['Female_Deaths'] = pd.to_numeric(df['Female_Deaths'], errors='coerce')\n",
    "df['Male_Deaths'] = pd.to_numeric(df['Male_Deaths'], errors='coerce')\n",
    "\n",
    "\n",
    "median_index = df['Index'].median()\n",
    "\n",
    "df_low_index = df[df['Index'] <= median_index]\n",
    "df_high_index = df[df['Index'] > median_index]\n",
    "\n",
    "import matplotlib.pyplot as plt\n",
    "\n",
    "\n",
    "df_low_grouped = df_low_index.groupby('Country')[['Female_Deaths', 'Male_Deaths']].sum()\n",
    "df_high_grouped = df_high_index.groupby('Country')[['Female_Deaths', 'Male_Deaths']].sum()\n",
    "\n",
    "# построим столбчатую диаграмму для первой группы (до медианного значения индекса включительно)\n",
    "plt.figure(figsize=(12, 6))\n",
    "df_low_grouped.plot(kind='bar', stacked=True)\n",
    "plt.title('Смертность по странам (группа до медианного значения индекса)')\n",
    "plt.xlabel('Страна')\n",
    "plt.ylabel('Смертность населения')\n",
    "plt.legend(title='Пол', loc='upper right')\n",
    "plt.show()\n",
    "\n",
    "# построим столбчатую диаграмму для второй группы (выше медианного значения индекса)\n",
    "plt.figure(figsize=(12, 6))\n",
    "df_high_grouped.plot(kind='bar', stacked=True)\n",
    "plt.title('Смертность по странам (группа выше медианного значения индекса)')\n",
    "plt.xlabel('Страна')\n",
    "plt.ylabel('Смертность населения')\n",
    "plt.legend(title='Пол', loc='upper right')\n",
    "plt.show()\n",
    "\n"
   ]
  },
  {
   "cell_type": "markdown",
   "metadata": {},
   "source": [
    "Отсюда можно заметить, что в государствах с показателем уровня экологической эффективности ниже/равному его медианному значению, смертность (что мужская, что женская) выше, чем в государствах с высоким показателем индекса (выше медианного). Интуитивно: страны, правительства которых активно работают над экологической средой своей территории, снижают уровень заболеваемости из-за загрязнения у граждан, тем самым уменьшая уровень смертности.\n",
    "\n",
    "Попробуем проследить зависимость между численностью населения и индексом экологической эффективности на точечном графике."
   ]
  },
  {
   "cell_type": "code",
   "execution_count": 85,
   "metadata": {
    "scrolled": true
   },
   "outputs": [
    {
     "data": {
      "image/png": "[encoded data removed]",
      "text/plain": [
       "<Figure size 640x480 with 1 Axes>"
      ]
     },
     "metadata": {},
     "output_type": "display_data"
    }
   ],
   "source": [
    "import matplotlib.pyplot as plt\n",
    "\n",
    "df.plot(x='Population', y='Index', kind='scatter')\n",
    "\n",
    "plt.xlabel('Population')\n",
    "plt.ylabel('Index')\n",
    "plt.title('Зависимость между численностью населения и индексом экологической эффективности')  \n",
    "\n",
    "plt.show() "
   ]
  },
  {
   "cell_type": "markdown",
   "metadata": {},
   "source": [
    "На этом графике не наблюдается прямая зависимость: образовалось корреляционное облако.\n",
    "\n",
    "\n",
    "Итоговый вывод, который можно здесь сделать: смертность действительно уменьшается с увеличением индекса экологической эффективности. При этом количество проживающих граждан не влияет на интенсивность участия государства в экологической безопасности."
   ]
  },
  {
   "cell_type": "markdown",
   "metadata": {},
   "source": [
    "##  Гипотезы \n",
    "\n"
   ]
  },
  {
   "cell_type": "markdown",
   "metadata": {},
   "source": [
    "Уровень смертности, конечно, зависит не только от экологии, но это является, на наш взгляд, одним из самых решающих факторов. Также кажется, что при должном интересе поддерживать экологию с помощью финансирования со стороны правительства, уровень экологии может повышаться. \n",
    "\n",
    "Нулевая гипотеза: страны, которые активно инвестируют в экологию (то есть стараются обеспечить чистую среду), имеют высокие показатели (являются \"экологически чистыми\"). \n",
    "\n",
    "Альтернативная гипотеза: страны, которые активно инвестируют в экологию, не обязательно имеют высокие показатели \"экологической чистоты\" (также низкие и средние).\n",
    "\n",
    "Трудность, с которой мы сталкнулись: невозможно найти данные о зеленых инвестициях: их либо нет в желаемом формате по представленным выше странам, либо информация не раскрывается. \n",
    "\n",
    "Поэтому другой вариант гипотез, исходя из нашего графика: \n",
    "\n",
    "H0: страны с большой численностью населения относятся к экологически развитым (имеют высокий индекс)\n",
    "\n",
    "H1: существует отрицательная корреляция между численностью населения страны и ее экологическим индексом, что означает, что страны с большой численностью населения склонны иметь более низкий экологический индекс.\n"
   ]
  },
  {
   "cell_type": "code",
   "execution_count": 86,
   "metadata": {
    "scrolled": true
   },
   "outputs": [
    {
     "name": "stdout",
     "output_type": "stream",
     "text": [
      "Коэффициент корреляции Пирсона: -0.22743156042568086\n",
      "p-value: 0.003305495483096391\n",
      "Отвергаем нулевую гипотезу: существует отрицательная корреляция между численностью населения и экологическим индексом.\n"
     ]
    }
   ],
   "source": [
    "import pandas as pd\n",
    "from scipy.stats import pearsonr\n",
    "\n",
    "\n",
    "#преобразуем в числовой формат (без этой строчки код не работал)\n",
    "df['Population'] = pd.to_numeric(df['Population'], errors='coerce')\n",
    "df['Index'] = pd.to_numeric(df['Index'], errors='coerce')\n",
    "\n",
    "\n",
    "\n",
    "#находим коэффициент корреляции Пирсона и p-value\n",
    "correlation, p_value = pearsonr(df['Population'], df['Index'])\n",
    "\n",
    "print(f\"Коэффициент корреляции Пирсона: {correlation}\")\n",
    "print(f\"p-value: {p_value}\")\n",
    "\n",
    "alpha = 0.05\n",
    "if p_value < alpha:\n",
    "    print(\"Отвергаем нулевую гипотезу: существует отрицательная корреляция между численностью населения и экологическим индексом.\")\n",
    "else:\n",
    "    print(\"Не можем отвергнуть нулевую гипотезу: страны с большой численностью населения могут быть экологически развитыми.\")\n"
   ]
  },
  {
   "cell_type": "markdown",
   "metadata": {},
   "source": [
    "Как и предполагалось еще из графика, однозначной зависимости между численностью населения и индексом экологической эффективности нет. Корреляция отрицательная, но она не является очень большой, поэтому заявлять о том, что чем больше людей в государстве, тем ниже индекс - также нельзя."
   ]
  },
  {
   "cell_type": "markdown",
   "metadata": {},
   "source": [
    "##  МО \n",
    "\n"
   ]
  },
  {
   "cell_type": "markdown",
   "metadata": {},
   "source": [
    "Мы хотим обучить модель предсказывать, сколько нужно использовать \"зеленых\" инвестиций, чтобы снизить уровень загрязнения и, соответственно, смертности (гипотеза представлена в самом начале). \n",
    "\n",
    "Проблема с данными та же, что и в разделе \"Гипотезы\". \n",
    "\n",
    "**Но теоретически план был таков:**\n",
    "\n",
    "1) Добавляем данные об объеме инвестирования страны в экологию\n",
    "\n",
    "2) Смотрим на соотношение инвестиций со смертностью и индексом экологии\n",
    "\n",
    "3) Обучаем модель так, чтобы она предсказывала, сколько нужно вкладывать в экологию своей страны, чтобы уменьшить уровень смертности\n"
   ]
  },
  {
   "cell_type": "code",
   "execution_count": null,
   "metadata": {},
   "outputs": [],
   "source": []
  }
 ],
 "metadata": {
  "kernelspec": {
   "display_name": "Python 3 (ipykernel)",
   "language": "python",
   "name": "python3"
  },
  "language_info": {
   "codemirror_mode": {
    "name": "ipython",
    "version": 3
   },
   "file_extension": ".py",
   "mimetype": "text/x-python",
   "name": "python",
   "nbconvert_exporter": "python",
   "pygments_lexer": "ipython3",
   "version": "3.9.13"
  }
 },
 "nbformat": 4,
 "nbformat_minor": 2
}
