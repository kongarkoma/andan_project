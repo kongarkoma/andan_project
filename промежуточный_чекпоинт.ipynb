{
 "cells": [
  {
   "cell_type": "markdown",
   "metadata": {},
   "source": [
    "**ФИО: Бочарова Дарья Алексеевна, Гарькина Анастасия Константиновна**\n",
    "\n"
   ]
  },
  {
   "cell_type": "markdown",
   "metadata": {},
   "source": [
    "## Project\n",
    "\n",
    "\n",
    "__Тема:__ Исследование экологических проблем в разных странах мира\n",
    "\n",
    "__Цель:__ Посмотреть на зависимость между уровнем загрязнения и смертностью в странах мира\n",
    "\n",
    "__Гипотеза:__ Страны с высоким индексом активно инвестируют в экологию своей территории. Стоит повышать государственные затраты на снижение проблем с экологией для снижения уровня смертности (для этого впоследствии будут добавлены данные по финансовым вложениям стран)"
   ]
  },
  {
   "cell_type": "markdown",
   "metadata": {},
   "source": [
    "## Сбор данных\n",
    "\n",
    "На данном шаге мы будем создавать датасет; это будет происходить в несколько этапов, поскольку данные достаются с разных сайтов. Необходимы следующие данные: уровень экологии, индекс загрязнения, уровень смертности в странах мира"
   ]
  },
  {
   "cell_type": "code",
   "execution_count": 1,
   "metadata": {},
   "outputs": [],
   "source": [
    "import numpy as np\n",
    "import pandas as pd\n",
    "\n",
    "import scipy.stats as sts\n",
    "import matplotlib.pyplot as plt\n",
    "import seaborn as sns"
   ]
  },
  {
   "cell_type": "markdown",
   "metadata": {},
   "source": [
    "\n",
    "\n",
    "Сначала берем данные об уровне экологии"
   ]
  },
  {
   "cell_type": "code",
   "execution_count": 14,
   "metadata": {
    "scrolled": true
   },
   "outputs": [
    {
     "name": "stdout",
     "output_type": "stream",
     "text": [
      "         Country  Index Changes_over_10_years\n",
      "0      Австралия  60.10                 10.30\n",
      "1        Австрия  66.50                  7.20\n",
      "2    Азербайджан  38.60                 -1.30\n",
      "3        Албания  47.10                  9.90\n",
      "4          Алжир  29.60                 -4.00\n",
      "..           ...    ...                   ...\n",
      "175      Эфиопия  31.80                  3.60\n",
      "176          ЮАР  37.20                 10.10\n",
      "177  Южная Корея  46.90                  1.80\n",
      "178       Ямайка  45.60                 -2.00\n",
      "179       Япония  57.20                  3.20\n",
      "\n",
      "[180 rows x 3 columns]\n"
     ]
    }
   ],
   "source": [
    "import pandas as pd\n",
    "from bs4 import BeautifulSoup\n",
    "import requests\n",
    "from googletrans import Translator\n",
    "\n",
    "url = \"https://nonews.co/directory/lists/countries/ecology\" #первый источник с индексами\n",
    "response = requests.get(url) #результат 200, можно работать \n",
    "\n",
    "\n",
    "bs = BeautifulSoup(response.text, \"lxml\") #получаем исходный код\n",
    "data = []\n",
    "\n",
    "table1 = bs.find('table', class_=\"tablepress tablepress-id-1156\") #достаем из исходного кода нужные данные\n",
    "rows = table1.find_all('tr')\n",
    "\n",
    "for row in rows[1:]:  # пропускаем первую строку, чтобы убрать заголовки столбцов\n",
    "    cols = row.find_all('td')\n",
    "    cols = [col.text.strip() for col in cols]\n",
    "    data.append(cols)\n",
    "\n",
    "data1 = pd.DataFrame(data, columns = ['Num', 'Country', 'Index', 'Changes_over_10_years'])\n",
    "\n",
    "data1.drop('Num', axis=1, inplace=True) #удаляем столбец с номерами стран\n",
    "\n",
    "\n",
    "\n",
    "data_sorted = data_sorted.sort_values(by='Country', ignore_index=True) #отсортируем данные в алфавитном порядке по столбцу 'Country' с игнорированием нумерации\n",
    "\n",
    "print(data_sorted)\n"
   ]
  },
  {
   "cell_type": "markdown",
   "metadata": {},
   "source": [
    "__Описание столбцов:__\n",
    "\n",
    "* `Country` -  название страны\n",
    "* `Index` - уровень экологии\n",
    "* `Changes_over_10_years` - изменения за последние 10 лет\n"
   ]
  },
  {
   "cell_type": "code",
   "execution_count": null,
   "metadata": {},
   "outputs": [],
   "source": []
  },
  {
   "cell_type": "markdown",
   "metadata": {},
   "source": [
    "##  EDA"
   ]
  },
  {
   "cell_type": "markdown",
   "metadata": {},
   "source": [
    "На данном этапе будет выполнен анализ полученного датасета"
   ]
  },
  {
   "cell_type": "code",
   "execution_count": null,
   "metadata": {},
   "outputs": [],
   "source": []
  },
  {
   "cell_type": "code",
   "execution_count": null,
   "metadata": {},
   "outputs": [],
   "source": []
  }
 ],
 "metadata": {
  "kernelspec": {
   "display_name": "Python 3 (ipykernel)",
   "language": "python",
   "name": "python3"
  },
  "language_info": {
   "codemirror_mode": {
    "name": "ipython",
    "version": 3
   },
   "file_extension": ".py",
   "mimetype": "text/x-python",
   "name": "python",
   "nbconvert_exporter": "python",
   "pygments_lexer": "ipython3",
   "version": "3.9.13"
  }
 },
 "nbformat": 4,
 "nbformat_minor": 2
}
